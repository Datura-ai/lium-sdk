{
 "cells": [
  {
   "cell_type": "code",
   "execution_count": null,
   "metadata": {},
   "outputs": [],
   "source": [
    "import os\n",
    "import nest_asyncio\n",
    "import asyncio\n",
    "\n",
    "nest_asyncio.apply()\n",
    "os.environ[\"LIUM_SDK_DEBUG\"] = \"1\""
   ]
  },
  {
   "cell_type": "code",
   "execution_count": null,
   "metadata": {},
   "outputs": [],
   "source": [
    "# Synchronous Client\n",
    "import lium\n",
    "\n",
    "API_KEY = \"sk_9KkqixCKcgwFe5BC6yh27cN7aXtO3EVF5hz8L1YSPA4\"\n",
    "DOCKERHUB_USERNAME = \"talentwebdev\"\n",
    "DOCKERHUB_PASSWORD = \"Samzu777##\"\n"
   ]
  },
  {
   "cell_type": "code",
   "execution_count": null,
   "metadata": {},
   "outputs": [
    {
     "name": "stderr",
     "output_type": "stream",
     "text": [
      "\u001b[32m2025-06-10 11:03:52.143\u001b[0m | \u001b[34m\u001b[1mDEBUG   \u001b[0m | \u001b[36mcelium.transport.httpx_sync:request:62\u001b[0m - \u001b[34m\u001b[1mHTTP  ➜  GET /executors  hdrs={'X-API-Key': '<redacted>'}\u001b[0m\n"
     ]
    },
    {
     "name": "stdout",
     "output_type": "stream",
     "text": [
      "================== Executors =================\n",
      "list_executors machine_names=None price_per_hour_lte=None price_per_hour_gte=None gpu_count_lte=None gpu_count_gte=None lat=43.8304 lon=-79.504 max_distance_mile=100.0\n",
      "params {'lat': 43.8304, 'lon': -79.504, 'max_distance_mile': 100.0}\n",
      "2600\n"
     ]
    }
   ],
   "source": [
    "# Executors \n",
    "from lium import ExecutorFilterQuery\n",
    "with lium.Client(api_key=API_KEY) as client:\n",
    "    print(\"================== Executors =================\")\n",
    "    filter_query = ExecutorFilterQuery(lat=43.8304, lon=-79.504, max_distance_mile=100)\n",
    "    machines = client.pods.list_executors(filter_query=filter_query)\n",
    "    print(machines[0].uptime_in_minutes)\n",
    "    "
   ]
  }
 ],
 "metadata": {
  "kernelspec": {
   "display_name": ".venv",
   "language": "python",
   "name": "python3"
  },
  "language_info": {
   "codemirror_mode": {
    "name": "ipython",
    "version": 3
   },
   "file_extension": ".py",
   "mimetype": "text/x-python",
   "name": "python",
   "nbconvert_exporter": "python",
   "pygments_lexer": "ipython3",
   "version": "3.10.12"
  }
 },
 "nbformat": 4,
 "nbformat_minor": 2
}
